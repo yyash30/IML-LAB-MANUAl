{
 "cells": [
  {
   "cell_type": "markdown",
   "id": "5df99f13",
   "metadata": {
    "papermill": {
     "duration": 0.002405,
     "end_time": "2023-10-27T07:39:51.975898",
     "exception": false,
     "start_time": "2023-10-27T07:39:51.973493",
     "status": "completed"
    },
    "tags": []
   },
   "source": [
    "# Write a Python program using Scikit-learn to print the keys, number of rows-columns, feature names and the description of the given data."
   ]
  },
  {
   "cell_type": "code",
   "execution_count": 1,
   "id": "800bb313",
   "metadata": {
    "execution": {
     "iopub.execute_input": "2023-10-27T07:39:51.981884Z",
     "iopub.status.busy": "2023-10-27T07:39:51.981085Z",
     "iopub.status.idle": "2023-10-27T07:39:53.674242Z",
     "shell.execute_reply": "2023-10-27T07:39:53.673125Z"
    },
    "papermill": {
     "duration": 1.700639,
     "end_time": "2023-10-27T07:39:53.678448",
     "exception": false,
     "start_time": "2023-10-27T07:39:51.977809",
     "status": "completed"
    },
    "tags": []
   },
   "outputs": [
    {
     "name": "stdout",
     "output_type": "stream",
     "text": [
      "Key --  Index(['age', 'sex', 'bmi', 'bp', 's1', 's2', 's3', 's4', 's5', 's6',\n",
      "       'target'],\n",
      "      dtype='object')\n",
      "Total Row(s) --  442\n",
      "Total Column(s) --  11\n",
      "Feature name --  Index(['age', 'sex', 'bmi', 'bp', 's1', 's2', 's3', 's4', 's5', 's6',\n",
      "       'target'],\n",
      "      dtype='object')\n",
      "Discription of Data --  .. _diabetes_dataset:\n",
      "\n",
      "Diabetes dataset\n",
      "----------------\n",
      "\n",
      "Ten baseline variables, age, sex, body mass index, average blood\n",
      "pressure, and six blood serum measurements were obtained for each of n =\n",
      "442 diabetes patients, as well as the response of interest, a\n",
      "quantitative measure of disease progression one year after baseline.\n",
      "\n",
      "**Data Set Characteristics:**\n",
      "\n",
      "  :Number of Instances: 442\n",
      "\n",
      "  :Number of Attributes: First 10 columns are numeric predictive values\n",
      "\n",
      "  :Target: Column 11 is a quantitative measure of disease progression one year after baseline\n",
      "\n",
      "  :Attribute Information:\n",
      "      - age     age in years\n",
      "      - sex\n",
      "      - bmi     body mass index\n",
      "      - bp      average blood pressure\n",
      "      - s1      tc, total serum cholesterol\n",
      "      - s2      ldl, low-density lipoproteins\n",
      "      - s3      hdl, high-density lipoproteins\n",
      "      - s4      tch, total cholesterol / HDL\n",
      "      - s5      ltg, possibly log of serum triglycerides level\n",
      "      - s6      glu, blood sugar level\n",
      "\n",
      "Note: Each of these 10 feature variables have been mean centered and scaled by the standard deviation times the square root of `n_samples` (i.e. the sum of squares of each column totals 1).\n",
      "\n",
      "Source URL:\n",
      "https://www4.stat.ncsu.edu/~boos/var.select/diabetes.html\n",
      "\n",
      "For more information see:\n",
      "Bradley Efron, Trevor Hastie, Iain Johnstone and Robert Tibshirani (2004) \"Least Angle Regression,\" Annals of Statistics (with discussion), 407-499.\n",
      "(https://web.stanford.edu/~hastie/Papers/LARS/LeastAngle_2002.pdf)\n",
      "\n"
     ]
    }
   ],
   "source": [
    "from sklearn.datasets import load_diabetes \n",
    "\n",
    "Diab_obj=load_diabetes(as_frame=True)\n",
    "diab_frame=Diab_obj.frame\n",
    "\n",
    "print(\"Key -- \", diab_frame.keys())\n",
    "\n",
    "row, col = diab_frame.shape\n",
    "\n",
    "print(\"Total Row(s) -- \", row)\n",
    "print(\"Total Column(s) -- \", col)\n",
    "print(\"Feature name -- \", diab_frame.columns)\n",
    "print(\"Discription of Data -- \", Diab_obj.DESCR)\n"
   ]
  }
 ],
 "metadata": {
  "kernelspec": {
   "display_name": "Python 3",
   "language": "python",
   "name": "python3"
  },
  "language_info": {
   "codemirror_mode": {
    "name": "ipython",
    "version": 3
   },
   "file_extension": ".py",
   "mimetype": "text/x-python",
   "name": "python",
   "nbconvert_exporter": "python",
   "pygments_lexer": "ipython3",
   "version": "3.10.12"
  },
  "papermill": {
   "default_parameters": {},
   "duration": 5.728515,
   "end_time": "2023-10-27T07:39:54.200162",
   "environment_variables": {},
   "exception": null,
   "input_path": "__notebook__.ipynb",
   "output_path": "__notebook__.ipynb",
   "parameters": {},
   "start_time": "2023-10-27T07:39:48.471647",
   "version": "2.4.0"
  }
 },
 "nbformat": 4,
 "nbformat_minor": 5
}
