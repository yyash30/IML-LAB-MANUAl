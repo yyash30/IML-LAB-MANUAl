{
 "cells": [
  {
   "cell_type": "markdown",
   "id": "111ec7e3",
   "metadata": {
    "papermill": {
     "duration": 0.002528,
     "end_time": "2023-10-23T09:19:30.109587",
     "exception": false,
     "start_time": "2023-10-23T09:19:30.107059",
     "status": "completed"
    },
    "tags": []
   },
   "source": [
    "# Write a Pandas program to filter all columns where all entries present, check which rows and columns has a NaN and finally drop rows with any NaNs from the given dataset.\n"
   ]
  },
  {
   "cell_type": "code",
   "execution_count": 1,
   "id": "8fe00de8",
   "metadata": {
    "execution": {
     "iopub.execute_input": "2023-10-23T09:19:30.116211Z",
     "iopub.status.busy": "2023-10-23T09:19:30.115531Z",
     "iopub.status.idle": "2023-10-23T09:19:30.594604Z",
     "shell.execute_reply": "2023-10-23T09:19:30.593292Z"
    },
    "papermill": {
     "duration": 0.488019,
     "end_time": "2023-10-23T09:19:30.599901",
     "exception": false,
     "start_time": "2023-10-23T09:19:30.111882",
     "status": "completed"
    },
    "tags": []
   },
   "outputs": [
    {
     "name": "stdout",
     "output_type": "stream",
     "text": [
      "\n",
      "Columns with all entries present (no NaN):\n",
      "    Duration  Pulse  Maxpulse\n",
      "0         60    110       130\n",
      "1         60    117       145\n",
      "2         60    103       135\n",
      "3         45    109       175\n",
      "4         45    117       148\n",
      "5         60    102       127\n",
      "6         60    110       136\n",
      "7        450    104       134\n",
      "8         30    109       133\n",
      "9         60     98       124\n",
      "10        60    103       147\n",
      "11        60    100       120\n",
      "12        60    100       120\n",
      "13        60    106       128\n",
      "14        60    104       132\n",
      "15        60     98       123\n",
      "16        60     98       120\n",
      "17        60    100       120\n",
      "18        45     90       112\n",
      "19        60    103       123\n",
      "20        45     97       125\n",
      "21        60    108       131\n",
      "22        45    100       119\n",
      "23        60    130       101\n",
      "24        45    105       132\n",
      "25        60    102       126\n",
      "26        60    100       120\n",
      "27        60     92       118\n",
      "28        60    103       132\n",
      "29        60    100       132\n",
      "30        60    102       129\n",
      "31        60     92       115\n",
      "Total rows after dropping NaN: 29\n"
     ]
    }
   ],
   "source": [
    "#216270307011\n",
    "#YASH S YOGANANDI\n",
    "import pandas as pd\n",
    "\n",
    "data=pd.read_csv('/kaggle/input/wrong-data/wrong_data.csv')\n",
    "df = pd.DataFrame(data)\n",
    "\n",
    "\n",
    "df_filtered = df.dropna(axis=1, how='any')\n",
    "\n",
    "print(\"\\nColumns with all entries present (no NaN):\")\n",
    "print(df_filtered)\n",
    "\n",
    "rows_with_nan = df[df.isna().any(axis=1)]\n",
    "columns_with_nan = df.columns[df.isna().any()]\n",
    "\n",
    "#print(\"\\nRows with NaN values:\")\n",
    "#print(rows_with_nan)\n",
    "\n",
    "#print(\"\\nColumns with NaN values:\")\n",
    "#print(columns_with_nan)\n",
    "\n",
    "df_no_na_rows = df.dropna(axis=0, how='any')\n",
    "\n",
    "print(f\"Total rows after dropping NaN: {len(df_no_na_rows)}\")"
   ]
  },
  {
   "cell_type": "code",
   "execution_count": null,
   "id": "56dbeeba",
   "metadata": {
    "papermill": {
     "duration": 0.002212,
     "end_time": "2023-10-23T09:19:30.605176",
     "exception": false,
     "start_time": "2023-10-23T09:19:30.602964",
     "status": "completed"
    },
    "tags": []
   },
   "outputs": [],
   "source": []
  }
 ],
 "metadata": {
  "kernelspec": {
   "display_name": "Python 3",
   "language": "python",
   "name": "python3"
  },
  "language_info": {
   "codemirror_mode": {
    "name": "ipython",
    "version": 3
   },
   "file_extension": ".py",
   "mimetype": "text/x-python",
   "name": "python",
   "nbconvert_exporter": "python",
   "pygments_lexer": "ipython3",
   "version": "3.10.12"
  },
  "papermill": {
   "default_parameters": {},
   "duration": 4.84637,
   "end_time": "2023-10-23T09:19:31.129633",
   "environment_variables": {},
   "exception": null,
   "input_path": "__notebook__.ipynb",
   "output_path": "__notebook__.ipynb",
   "parameters": {},
   "start_time": "2023-10-23T09:19:26.283263",
   "version": "2.4.0"
  }
 },
 "nbformat": 4,
 "nbformat_minor": 5
}
