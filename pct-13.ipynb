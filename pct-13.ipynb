{
 "cells": [
  {
   "cell_type": "markdown",
   "id": "fcb2c986",
   "metadata": {
    "_cell_guid": "b1076dfc-b9ad-4769-8c92-a6c4dae69d19",
    "_uuid": "8f2839f25d086af736a60e9eeb907d3b93b6e0e5",
    "papermill": {
     "duration": 0.001946,
     "end_time": "2023-11-05T03:59:45.187201",
     "exception": false,
     "start_time": "2023-11-05T03:59:45.185255",
     "status": "completed"
    },
    "tags": []
   },
   "source": [
    "# Write a Python program to implement K-Nearest Neighbour supervised machine learning algorithm for given dataset."
   ]
  },
  {
   "cell_type": "code",
   "execution_count": 1,
   "id": "5c984f6c",
   "metadata": {
    "execution": {
     "iopub.execute_input": "2023-11-05T03:59:45.192393Z",
     "iopub.status.busy": "2023-11-05T03:59:45.192019Z",
     "iopub.status.idle": "2023-11-05T03:59:47.174820Z",
     "shell.execute_reply": "2023-11-05T03:59:47.173761Z"
    },
    "papermill": {
     "duration": 1.989988,
     "end_time": "2023-11-05T03:59:47.178760",
     "exception": false,
     "start_time": "2023-11-05T03:59:45.188772",
     "status": "completed"
    },
    "tags": []
   },
   "outputs": [
    {
     "name": "stdout",
     "output_type": "stream",
     "text": [
      "Shape is : (150, 5) \n",
      "\n",
      "Info is\n",
      " <bound method DataFrame.info of      sepal_length  sepal_width  petal_length  petal_width         species\n",
      "0             5.1          3.5           1.4          0.2     Iris-setosa\n",
      "1             4.9          3.0           1.4          0.2     Iris-setosa\n",
      "2             4.7          3.2           1.3          0.2     Iris-setosa\n",
      "3             4.6          3.1           1.5          0.2     Iris-setosa\n",
      "4             5.0          3.6           1.4          0.2     Iris-setosa\n",
      "..            ...          ...           ...          ...             ...\n",
      "145           6.7          3.0           5.2          2.3  Iris-virginica\n",
      "146           6.3          2.5           5.0          1.9  Iris-virginica\n",
      "147           6.5          3.0           5.2          2.0  Iris-virginica\n",
      "148           6.2          3.4           5.4          2.3  Iris-virginica\n",
      "149           5.9          3.0           5.1          1.8  Iris-virginica\n",
      "\n",
      "[150 rows x 5 columns]> \n",
      "\n",
      "Describing Data\n",
      "        sepal_length  sepal_width  petal_length  petal_width\n",
      "count    150.000000   150.000000    150.000000   150.000000\n",
      "mean       5.843333     3.054000      3.758667     1.198667\n",
      "std        0.828066     0.433594      1.764420     0.763161\n",
      "min        4.300000     2.000000      1.000000     0.100000\n",
      "25%        5.100000     2.800000      1.600000     0.300000\n",
      "50%        5.800000     3.000000      4.350000     1.300000\n",
      "75%        6.400000     3.300000      5.100000     1.800000\n",
      "max        7.900000     4.400000      6.900000     2.500000 \n",
      "\n",
      "Any null values\n",
      " sepal_length    0\n",
      "sepal_width     0\n",
      "petal_length    0\n",
      "petal_width     0\n",
      "species         0\n",
      "dtype: int64 \n",
      "\n",
      "Accuracy :  100.0\n"
     ]
    }
   ],
   "source": [
    "import pandas as pd\n",
    "from sklearn.model_selection import train_test_split\n",
    "from sklearn.neighbors import KNeighborsClassifier\n",
    "\n",
    "df=pd.read_csv('/kaggle/input/iris-flower-dataset/IRIS.csv')\n",
    "df.head()\n",
    "print (\"Shape is :\",df.shape,\"\\n\") # Printing shape (rows,columns)\n",
    "print(\"Info is\\n\",df.info,\"\\n\")\n",
    "print(\"Describing Data\\n\",df.describe(),\"\\n\")\n",
    "print(\"Any null values\\n\",df.isnull().sum(),\"\\n\")\n",
    "X=df.iloc[:,1:4]\n",
    "X=pd.get_dummies(X)\n",
    "X=X.values\n",
    "Y=df.iloc[:,-1].values\n",
    "x_train,x_test,y_train,y_test=train_test_split(X,Y,train_size=0.75,test_size=0.25,random_state=42)\n",
    "model1=KNeighborsClassifier()\n",
    "model1.fit(x_train,y_train)\n",
    "print(\"Accuracy : \",model1.score(x_test,y_test) * 100)"
   ]
  }
 ],
 "metadata": {
  "kernelspec": {
   "display_name": "Python 3",
   "language": "python",
   "name": "python3"
  },
  "language_info": {
   "codemirror_mode": {
    "name": "ipython",
    "version": 3
   },
   "file_extension": ".py",
   "mimetype": "text/x-python",
   "name": "python",
   "nbconvert_exporter": "python",
   "pygments_lexer": "ipython3",
   "version": "3.10.12"
  },
  "papermill": {
   "default_parameters": {},
   "duration": 5.728115,
   "end_time": "2023-11-05T03:59:47.700678",
   "environment_variables": {},
   "exception": null,
   "input_path": "__notebook__.ipynb",
   "output_path": "__notebook__.ipynb",
   "parameters": {},
   "start_time": "2023-11-05T03:59:41.972563",
   "version": "2.4.0"
  }
 },
 "nbformat": 4,
 "nbformat_minor": 5
}
