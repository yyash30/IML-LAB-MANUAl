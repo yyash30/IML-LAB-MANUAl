{
 "cells": [
  {
   "cell_type": "markdown",
   "id": "3bcfdf5b",
   "metadata": {
    "papermill": {
     "duration": 0.005921,
     "end_time": "2023-09-11T12:01:54.414833",
     "exception": false,
     "start_time": "2023-09-11T12:01:54.408912",
     "status": "completed"
    },
    "tags": []
   },
   "source": [
    "to convert a list of numeric values into a one-dimensional NumPy \n",
    "arrayARRAY"
   ]
  },
  {
   "cell_type": "code",
   "execution_count": 1,
   "id": "0ae87892",
   "metadata": {
    "execution": {
     "iopub.execute_input": "2023-09-11T12:01:54.427712Z",
     "iopub.status.busy": "2023-09-11T12:01:54.427305Z",
     "iopub.status.idle": "2023-09-11T12:01:54.442225Z",
     "shell.execute_reply": "2023-09-11T12:01:54.441138Z"
    },
    "papermill": {
     "duration": 0.024388,
     "end_time": "2023-09-11T12:01:54.444684",
     "exception": false,
     "start_time": "2023-09-11T12:01:54.420296",
     "status": "completed"
    },
    "tags": []
   },
   "outputs": [
    {
     "name": "stdout",
     "output_type": "stream",
     "text": [
      "Old array --  [10, 20, 30, 40, 50]\n",
      "Numpy array --  [10 20 30 40 50]\n"
     ]
    }
   ],
   "source": [
    "import numpy as np\n",
    "l1=[10, 20, 30, 40, 50]\n",
    "\n",
    "n_arr=np.array(l1)\n",
    "\n",
    "print(\"Old array -- \",l1)\n",
    "print(\"Numpy array -- \",n_arr)\n"
   ]
  },
  {
   "cell_type": "markdown",
   "id": "655a79a1",
   "metadata": {
    "papermill": {
     "duration": 0.005087,
     "end_time": "2023-09-11T12:01:54.455302",
     "exception": false,
     "start_time": "2023-09-11T12:01:54.450215",
     "status": "completed"
    },
    "tags": []
   },
   "source": [
    "to create a 3x3 matrix with values ranging from 2 to 10"
   ]
  },
  {
   "cell_type": "code",
   "execution_count": 2,
   "id": "77745c00",
   "metadata": {
    "execution": {
     "iopub.execute_input": "2023-09-11T12:01:54.468083Z",
     "iopub.status.busy": "2023-09-11T12:01:54.467661Z",
     "iopub.status.idle": "2023-09-11T12:01:54.474471Z",
     "shell.execute_reply": "2023-09-11T12:01:54.472777Z"
    },
    "papermill": {
     "duration": 0.016271,
     "end_time": "2023-09-11T12:01:54.476941",
     "exception": false,
     "start_time": "2023-09-11T12:01:54.460670",
     "status": "completed"
    },
    "tags": []
   },
   "outputs": [
    {
     "name": "stdout",
     "output_type": "stream",
     "text": [
      "[[ 2  3  4]\n",
      " [ 5  6  7]\n",
      " [ 8  9 10]]\n"
     ]
    }
   ],
   "source": [
    "import numpy as np\n",
    "\n",
    "a1=np.arange(2, 11).reshape(3, 3);\n",
    "\n",
    "print(a1)"
   ]
  },
  {
   "cell_type": "markdown",
   "id": "b3dc039d",
   "metadata": {
    "papermill": {
     "duration": 0.005123,
     "end_time": "2023-09-11T12:01:54.487624",
     "exception": false,
     "start_time": "2023-09-11T12:01:54.482501",
     "status": "completed"
    },
    "tags": []
   },
   "source": [
    "to append values at the end of an array"
   ]
  },
  {
   "cell_type": "code",
   "execution_count": 3,
   "id": "3ddb9b73",
   "metadata": {
    "execution": {
     "iopub.execute_input": "2023-09-11T12:01:54.500270Z",
     "iopub.status.busy": "2023-09-11T12:01:54.499841Z",
     "iopub.status.idle": "2023-09-11T12:01:54.508495Z",
     "shell.execute_reply": "2023-09-11T12:01:54.507489Z"
    },
    "papermill": {
     "duration": 0.018289,
     "end_time": "2023-09-11T12:01:54.511239",
     "exception": false,
     "start_time": "2023-09-11T12:01:54.492950",
     "status": "completed"
    },
    "tags": []
   },
   "outputs": [
    {
     "name": "stdout",
     "output_type": "stream",
     "text": [
      "Random array --  [[ 7 10 10]]\n",
      "Appended array --  [10 20 30 40 50  7 10 10]\n"
     ]
    }
   ],
   "source": [
    "import numpy as np\n",
    "\n",
    "l1=[10, 20, 30, 40, 50]\n",
    "r_arr=np.random.randint(5, 11,(1,3))\n",
    "newarr=np.append(l1, r_arr)\n",
    "print(\"Random array -- \",r_arr)\n",
    "print(\"Appended array -- \",newarr)\n",
    "\n",
    "\n"
   ]
  },
  {
   "cell_type": "markdown",
   "id": "a6760ae2",
   "metadata": {
    "papermill": {
     "duration": 0.005364,
     "end_time": "2023-09-11T12:01:54.522210",
     "exception": false,
     "start_time": "2023-09-11T12:01:54.516846",
     "status": "completed"
    },
    "tags": []
   },
   "source": [
    "to create another shape from an array without changing its data(3x2 \n",
    "to 2x3)"
   ]
  },
  {
   "cell_type": "code",
   "execution_count": 4,
   "id": "f7370fb3",
   "metadata": {
    "execution": {
     "iopub.execute_input": "2023-09-11T12:01:54.535433Z",
     "iopub.status.busy": "2023-09-11T12:01:54.535010Z",
     "iopub.status.idle": "2023-09-11T12:01:54.541553Z",
     "shell.execute_reply": "2023-09-11T12:01:54.540788Z"
    },
    "papermill": {
     "duration": 0.016251,
     "end_time": "2023-09-11T12:01:54.543995",
     "exception": false,
     "start_time": "2023-09-11T12:01:54.527744",
     "status": "completed"
    },
    "tags": []
   },
   "outputs": [
    {
     "name": "stdout",
     "output_type": "stream",
     "text": [
      "[[4 2]\n",
      " [5 4]\n",
      " [4 1]]\n",
      "\n",
      " [[4 2 5]\n",
      " [4 4 1]]\n"
     ]
    }
   ],
   "source": [
    "import numpy as np\n",
    "\n",
    "arr1=np.random.randint(1,10,(3, 2))\n",
    "print(arr1)\n",
    "a1=arr1.reshape(2, 3);\n",
    "print(\"\\n\",a1)\n",
    "\n",
    "\n"
   ]
  },
  {
   "cell_type": "code",
   "execution_count": null,
   "id": "16698448",
   "metadata": {
    "papermill": {
     "duration": 0.005263,
     "end_time": "2023-09-11T12:01:54.555179",
     "exception": false,
     "start_time": "2023-09-11T12:01:54.549916",
     "status": "completed"
    },
    "tags": []
   },
   "outputs": [],
   "source": []
  }
 ],
 "kernelspec": {
  "display_name": "Python 3",
  "language": "python",
  "name": "python3"
 },
 "language_info": {
  "codemirror_mode": {
   "name": "ipython",
   "version": 3
  },
  "file_extension": ".py",
  "mimetype": "text/x-python",
  "name": "python",
  "nbconvert_exporter": "python",
  "pygments_lexer": "ipython3",
  "version": "3.6.4"
 },
 "metadata": {
  "kernelspec": {
   "display_name": "Python 3",
   "language": "python",
   "name": "python3"
  },
  "language_info": {
   "codemirror_mode": {
    "name": "ipython",
    "version": 3
   },
   "file_extension": ".py",
   "mimetype": "text/x-python",
   "name": "python",
   "nbconvert_exporter": "python",
   "pygments_lexer": "ipython3",
   "version": "3.10.12"
  },
  "papermill": {
   "default_parameters": {},
   "duration": 4.397153,
   "end_time": "2023-09-11T12:01:54.981651",
   "environment_variables": {},
   "exception": null,
   "input_path": "__notebook__.ipynb",
   "output_path": "__notebook__.ipynb",
   "parameters": {},
   "start_time": "2023-09-11T12:01:50.584498",
   "version": "2.4.0"
  }
 },
 "nbformat": 4,
 "nbformat_minor": 5
}
