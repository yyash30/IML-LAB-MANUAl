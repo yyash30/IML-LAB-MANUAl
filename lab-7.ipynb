{
 "cells": [
  {
   "cell_type": "code",
   "execution_count": 1,
   "id": "539e56f6",
   "metadata": {
    "_cell_guid": "b1076dfc-b9ad-4769-8c92-a6c4dae69d19",
    "_uuid": "8f2839f25d086af736a60e9eeb907d3b93b6e0e5",
    "execution": {
     "iopub.execute_input": "2023-10-23T09:40:25.580969Z",
     "iopub.status.busy": "2023-10-23T09:40:25.580610Z",
     "iopub.status.idle": "2023-10-23T09:40:25.902672Z",
     "shell.execute_reply": "2023-10-23T09:40:25.900285Z"
    },
    "papermill": {
     "duration": 0.332315,
     "end_time": "2023-10-23T09:40:25.907408",
     "exception": false,
     "start_time": "2023-10-23T09:40:25.575093",
     "status": "completed"
    },
    "tags": []
   },
   "outputs": [],
   "source": [
    "import numpy as np\n",
    "import pandas as pd"
   ]
  },
  {
   "cell_type": "markdown",
   "id": "b9259556",
   "metadata": {
    "papermill": {
     "duration": 0.003308,
     "end_time": "2023-10-23T09:40:25.916744",
     "exception": false,
     "start_time": "2023-10-23T09:40:25.913436",
     "status": "completed"
    },
    "tags": []
   },
   "source": [
    "# To create a dataframe from a dictionary and display it"
   ]
  },
  {
   "cell_type": "code",
   "execution_count": 2,
   "id": "e5942de8",
   "metadata": {
    "execution": {
     "iopub.execute_input": "2023-10-23T09:40:25.925009Z",
     "iopub.status.busy": "2023-10-23T09:40:25.924492Z",
     "iopub.status.idle": "2023-10-23T09:40:25.957803Z",
     "shell.execute_reply": "2023-10-23T09:40:25.956951Z"
    },
    "papermill": {
     "duration": 0.04006,
     "end_time": "2023-10-23T09:40:25.960192",
     "exception": false,
     "start_time": "2023-10-23T09:40:25.920132",
     "status": "completed"
    },
    "tags": []
   },
   "outputs": [
    {
     "data": {
      "text/html": [
       "<div>\n",
       "<style scoped>\n",
       "    .dataframe tbody tr th:only-of-type {\n",
       "        vertical-align: middle;\n",
       "    }\n",
       "\n",
       "    .dataframe tbody tr th {\n",
       "        vertical-align: top;\n",
       "    }\n",
       "\n",
       "    .dataframe thead th {\n",
       "        text-align: right;\n",
       "    }\n",
       "</style>\n",
       "<table border=\"1\" class=\"dataframe\">\n",
       "  <thead>\n",
       "    <tr style=\"text-align: right;\">\n",
       "      <th></th>\n",
       "      <th>words</th>\n",
       "      <th>number</th>\n",
       "    </tr>\n",
       "  </thead>\n",
       "  <tbody>\n",
       "    <tr>\n",
       "      <th>0</th>\n",
       "      <td>Fifteen</td>\n",
       "      <td>11</td>\n",
       "    </tr>\n",
       "    <tr>\n",
       "      <th>1</th>\n",
       "      <td>Twelve</td>\n",
       "      <td>12</td>\n",
       "    </tr>\n",
       "    <tr>\n",
       "      <th>2</th>\n",
       "      <td>Thirteen</td>\n",
       "      <td>13</td>\n",
       "    </tr>\n",
       "    <tr>\n",
       "      <th>3</th>\n",
       "      <td>Eleven</td>\n",
       "      <td>14</td>\n",
       "    </tr>\n",
       "    <tr>\n",
       "      <th>4</th>\n",
       "      <td>Fourteen</td>\n",
       "      <td>15</td>\n",
       "    </tr>\n",
       "  </tbody>\n",
       "</table>\n",
       "</div>"
      ],
      "text/plain": [
       "      words  number\n",
       "0   Fifteen      11\n",
       "1    Twelve      12\n",
       "2  Thirteen      13\n",
       "3    Eleven      14\n",
       "4  Fourteen      15"
      ]
     },
     "execution_count": 2,
     "metadata": {},
     "output_type": "execute_result"
    }
   ],
   "source": [
    "#216270307011\n",
    "#YASH S YOGANANDI\n",
    "import numpy as np\n",
    "import pandas as pd\n",
    "data = {\n",
    "    'words': ['Fifteen', 'Twelve', 'Thirteen', 'Eleven', 'Fourteen'],\n",
    "    'number': [11, 12, 13, 14, 15],\n",
    "}\n",
    "df = pd.DataFrame(data)\n",
    "df"
   ]
  },
  {
   "cell_type": "markdown",
   "id": "685e884b",
   "metadata": {
    "papermill": {
     "duration": 0.002642,
     "end_time": "2023-10-23T09:40:25.966095",
     "exception": false,
     "start_time": "2023-10-23T09:40:25.963453",
     "status": "completed"
    },
    "tags": []
   },
   "source": [
    "# To sort the DataFrame first by 'name' in ascending order"
   ]
  },
  {
   "cell_type": "code",
   "execution_count": 3,
   "id": "987c2b64",
   "metadata": {
    "execution": {
     "iopub.execute_input": "2023-10-23T09:40:25.974722Z",
     "iopub.status.busy": "2023-10-23T09:40:25.973726Z",
     "iopub.status.idle": "2023-10-23T09:40:26.006553Z",
     "shell.execute_reply": "2023-10-23T09:40:26.000643Z"
    },
    "papermill": {
     "duration": 0.041234,
     "end_time": "2023-10-23T09:40:26.010404",
     "exception": false,
     "start_time": "2023-10-23T09:40:25.969170",
     "status": "completed"
    },
    "tags": []
   },
   "outputs": [
    {
     "data": {
      "text/html": [
       "<div>\n",
       "<style scoped>\n",
       "    .dataframe tbody tr th:only-of-type {\n",
       "        vertical-align: middle;\n",
       "    }\n",
       "\n",
       "    .dataframe tbody tr th {\n",
       "        vertical-align: top;\n",
       "    }\n",
       "\n",
       "    .dataframe thead th {\n",
       "        text-align: right;\n",
       "    }\n",
       "</style>\n",
       "<table border=\"1\" class=\"dataframe\">\n",
       "  <thead>\n",
       "    <tr style=\"text-align: right;\">\n",
       "      <th></th>\n",
       "      <th>name</th>\n",
       "      <th>number</th>\n",
       "    </tr>\n",
       "  </thead>\n",
       "  <tbody>\n",
       "    <tr>\n",
       "      <th>3</th>\n",
       "      <td>Arya</td>\n",
       "      <td>14</td>\n",
       "    </tr>\n",
       "    <tr>\n",
       "      <th>4</th>\n",
       "      <td>Heena</td>\n",
       "      <td>15</td>\n",
       "    </tr>\n",
       "    <tr>\n",
       "      <th>1</th>\n",
       "      <td>Misty</td>\n",
       "      <td>12</td>\n",
       "    </tr>\n",
       "    <tr>\n",
       "      <th>2</th>\n",
       "      <td>Vansh</td>\n",
       "      <td>13</td>\n",
       "    </tr>\n",
       "    <tr>\n",
       "      <th>0</th>\n",
       "      <td>adi</td>\n",
       "      <td>11</td>\n",
       "    </tr>\n",
       "  </tbody>\n",
       "</table>\n",
       "</div>"
      ],
      "text/plain": [
       "    name  number\n",
       "3   Arya      14\n",
       "4  Heena      15\n",
       "1  Misty      12\n",
       "2  Vansh      13\n",
       "0    adi      11"
      ]
     },
     "execution_count": 3,
     "metadata": {},
     "output_type": "execute_result"
    }
   ],
   "source": [
    "#216270307011\n",
    "#YASH S YOGANANDI\n",
    "import numpy as np\n",
    "import pandas as pd\n",
    "data = {\n",
    "    'name': ['adi', 'Misty', 'Vansh', 'Arya', 'Heena'],\n",
    "    'number': [11, 12, 13, 14, 15],\n",
    "}\n",
    "df = pd.DataFrame(data)\n",
    "sorted_df=df.sort_values(by='name', ascending=True)\n",
    "sorted_df"
   ]
  },
  {
   "cell_type": "markdown",
   "id": "bac7f8d1",
   "metadata": {
    "papermill": {
     "duration": 0.00275,
     "end_time": "2023-10-23T09:40:26.016555",
     "exception": false,
     "start_time": "2023-10-23T09:40:26.013805",
     "status": "completed"
    },
    "tags": []
   },
   "source": [
    "# To delete the one specific column from the DataFrame"
   ]
  },
  {
   "cell_type": "code",
   "execution_count": 4,
   "id": "da28d06b",
   "metadata": {
    "execution": {
     "iopub.execute_input": "2023-10-23T09:40:26.026319Z",
     "iopub.status.busy": "2023-10-23T09:40:26.024768Z",
     "iopub.status.idle": "2023-10-23T09:40:26.046983Z",
     "shell.execute_reply": "2023-10-23T09:40:26.044169Z"
    },
    "papermill": {
     "duration": 0.030908,
     "end_time": "2023-10-23T09:40:26.050298",
     "exception": false,
     "start_time": "2023-10-23T09:40:26.019390",
     "status": "completed"
    },
    "tags": []
   },
   "outputs": [
    {
     "data": {
      "text/html": [
       "<div>\n",
       "<style scoped>\n",
       "    .dataframe tbody tr th:only-of-type {\n",
       "        vertical-align: middle;\n",
       "    }\n",
       "\n",
       "    .dataframe tbody tr th {\n",
       "        vertical-align: top;\n",
       "    }\n",
       "\n",
       "    .dataframe thead th {\n",
       "        text-align: right;\n",
       "    }\n",
       "</style>\n",
       "<table border=\"1\" class=\"dataframe\">\n",
       "  <thead>\n",
       "    <tr style=\"text-align: right;\">\n",
       "      <th></th>\n",
       "      <th>name</th>\n",
       "    </tr>\n",
       "  </thead>\n",
       "  <tbody>\n",
       "    <tr>\n",
       "      <th>0</th>\n",
       "      <td>adi</td>\n",
       "    </tr>\n",
       "    <tr>\n",
       "      <th>1</th>\n",
       "      <td>Misty</td>\n",
       "    </tr>\n",
       "    <tr>\n",
       "      <th>2</th>\n",
       "      <td>Vansh</td>\n",
       "    </tr>\n",
       "    <tr>\n",
       "      <th>3</th>\n",
       "      <td>Arya</td>\n",
       "    </tr>\n",
       "    <tr>\n",
       "      <th>4</th>\n",
       "      <td>Heena</td>\n",
       "    </tr>\n",
       "  </tbody>\n",
       "</table>\n",
       "</div>"
      ],
      "text/plain": [
       "    name\n",
       "0    adi\n",
       "1  Misty\n",
       "2  Vansh\n",
       "3   Arya\n",
       "4  Heena"
      ]
     },
     "execution_count": 4,
     "metadata": {},
     "output_type": "execute_result"
    }
   ],
   "source": [
    "#216270307011\n",
    "#YASH S YOGANANDI\n",
    "import numpy as np\n",
    "import pandas as pd\n",
    "del df['number']\n",
    "df"
   ]
  },
  {
   "cell_type": "markdown",
   "id": "1ee65cd9",
   "metadata": {
    "papermill": {
     "duration": 0.002679,
     "end_time": "2023-10-23T09:40:26.056036",
     "exception": false,
     "start_time": "2023-10-23T09:40:26.053357",
     "status": "completed"
    },
    "tags": []
   },
   "source": [
    "# To write a DataFrame to CSV file using tab separator"
   ]
  },
  {
   "cell_type": "code",
   "execution_count": 5,
   "id": "8e2a754d",
   "metadata": {
    "execution": {
     "iopub.execute_input": "2023-10-23T09:40:26.064394Z",
     "iopub.status.busy": "2023-10-23T09:40:26.063855Z",
     "iopub.status.idle": "2023-10-23T09:40:26.083639Z",
     "shell.execute_reply": "2023-10-23T09:40:26.079736Z"
    },
    "papermill": {
     "duration": 0.030234,
     "end_time": "2023-10-23T09:40:26.089039",
     "exception": false,
     "start_time": "2023-10-23T09:40:26.058805",
     "status": "completed"
    },
    "tags": []
   },
   "outputs": [
    {
     "name": "stdout",
     "output_type": "stream",
     "text": [
      "Data are converted in csv form\n"
     ]
    }
   ],
   "source": [
    "#216270307011\n",
    "#YASH S YOGANANDI\n",
    "import numpy as np\n",
    "import pandas as pd\n",
    "data = {\n",
    "    'name': ['adi', 'Misty', 'Vansh', 'Arya', 'Heena'],\n",
    "    'number': [11, 12, 13, 14, 15],\n",
    "}\n",
    "df = pd.DataFrame(data)\n",
    "\n",
    "df.to_csv('name.csv', sep='\\t')\n",
    "\n",
    "print(\"Data are converted in csv form\")"
   ]
  }
 ],
 "metadata": {
  "kernelspec": {
   "display_name": "Python 3",
   "language": "python",
   "name": "python3"
  },
  "language_info": {
   "codemirror_mode": {
    "name": "ipython",
    "version": 3
   },
   "file_extension": ".py",
   "mimetype": "text/x-python",
   "name": "python",
   "nbconvert_exporter": "python",
   "pygments_lexer": "ipython3",
   "version": "3.10.12"
  },
  "papermill": {
   "default_parameters": {},
   "duration": 4.027728,
   "end_time": "2023-10-23T09:40:26.616422",
   "environment_variables": {},
   "exception": null,
   "input_path": "__notebook__.ipynb",
   "output_path": "__notebook__.ipynb",
   "parameters": {},
   "start_time": "2023-10-23T09:40:22.588694",
   "version": "2.4.0"
  }
 },
 "nbformat": 4,
 "nbformat_minor": 5
}
