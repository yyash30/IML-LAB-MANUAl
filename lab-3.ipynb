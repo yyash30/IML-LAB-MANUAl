{
 "cells": [
  {
   "cell_type": "markdown",
   "id": "fd42d024",
   "metadata": {
    "papermill": {
     "duration": 0.004635,
     "end_time": "2023-09-11T12:15:51.153677",
     "exception": false,
     "start_time": "2023-09-11T12:15:51.149042",
     "status": "completed"
    },
    "tags": []
   },
   "source": [
    "to split an array of 14 elements into 3 arrays, each with 2, 4, and 8 \n",
    "elements in the original order"
   ]
  },
  {
   "cell_type": "code",
   "execution_count": 1,
   "id": "5b7c0da3",
   "metadata": {
    "execution": {
     "iopub.execute_input": "2023-09-11T12:15:51.164196Z",
     "iopub.status.busy": "2023-09-11T12:15:51.163015Z",
     "iopub.status.idle": "2023-09-11T12:15:51.178838Z",
     "shell.execute_reply": "2023-09-11T12:15:51.177536Z"
    },
    "papermill": {
     "duration": 0.024005,
     "end_time": "2023-09-11T12:15:51.181811",
     "exception": false,
     "start_time": "2023-09-11T12:15:51.157806",
     "status": "completed"
    },
    "tags": []
   },
   "outputs": [
    {
     "name": "stdout",
     "output_type": "stream",
     "text": [
      "[11 45] [ 9  5 11 19] [12 34 65 34  2 56  2 45]\n"
     ]
    }
   ],
   "source": [
    "import numpy as np\n",
    "list1=np.array([11, 45, 9, 5, 11, 19, 12, 34, 65, 34, 2, 56, 2, 45])\n",
    "\n",
    "a, b, c=np.split(list1, [2, 6])\n",
    "\n",
    "print(a, b, c)\n"
   ]
  },
  {
   "cell_type": "markdown",
   "id": "aee814f2",
   "metadata": {
    "papermill": {
     "duration": 0.003738,
     "end_time": "2023-09-11T12:15:51.189714",
     "exception": false,
     "start_time": "2023-09-11T12:15:51.185976",
     "status": "completed"
    },
    "tags": []
   },
   "source": [
    "to stack arrays horizontally (column wise)"
   ]
  },
  {
   "cell_type": "code",
   "execution_count": 2,
   "id": "2348e537",
   "metadata": {
    "execution": {
     "iopub.execute_input": "2023-09-11T12:15:51.199544Z",
     "iopub.status.busy": "2023-09-11T12:15:51.198752Z",
     "iopub.status.idle": "2023-09-11T12:15:51.208252Z",
     "shell.execute_reply": "2023-09-11T12:15:51.207140Z"
    },
    "papermill": {
     "duration": 0.017412,
     "end_time": "2023-09-11T12:15:51.210972",
     "exception": false,
     "start_time": "2023-09-11T12:15:51.193560",
     "status": "completed"
    },
    "tags": []
   },
   "outputs": [
    {
     "name": "stdout",
     "output_type": "stream",
     "text": [
      "Array-1 --  [2 1 5 3 9]\n",
      "Array-2 --  [15 18 14 14 11]\n",
      "Stack array -- [ 2  1  5  3  9 15 18 14 14 11]\n"
     ]
    }
   ],
   "source": [
    "import numpy as np \n",
    "\n",
    "a1=np.random.randint(1,10,5)\n",
    "a2=np.random.randint(11,20,5)\n",
    "\n",
    "c = np.hstack((a1, a2))\n",
    "print(\"Array-1 -- \",a1)\n",
    "print(\"Array-2 -- \" ,a2)\n",
    "print(\"Stack array --\",c)\n"
   ]
  }
 ],
 "kernelspec": {
  "display_name": "Python 3",
  "language": "python",
  "name": "python3"
 },
 "language_info": {
  "codemirror_mode": {
   "name": "ipython",
   "version": 3
  },
  "file_extension": ".py",
  "mimetype": "text/x-python",
  "name": "python",
  "nbconvert_exporter": "python",
  "pygments_lexer": "ipython3",
  "version": "3.6.4"
 },
 "metadata": {
  "kernelspec": {
   "display_name": "Python 3",
   "language": "python",
   "name": "python3"
  },
  "language_info": {
   "codemirror_mode": {
    "name": "ipython",
    "version": 3
   },
   "file_extension": ".py",
   "mimetype": "text/x-python",
   "name": "python",
   "nbconvert_exporter": "python",
   "pygments_lexer": "ipython3",
   "version": "3.10.12"
  },
  "papermill": {
   "default_parameters": {},
   "duration": 4.182734,
   "end_time": "2023-09-11T12:15:51.634632",
   "environment_variables": {},
   "exception": null,
   "input_path": "__notebook__.ipynb",
   "output_path": "__notebook__.ipynb",
   "parameters": {},
   "start_time": "2023-09-11T12:15:47.451898",
   "version": "2.4.0"
  }
 },
 "nbformat": 4,
 "nbformat_minor": 5
}
