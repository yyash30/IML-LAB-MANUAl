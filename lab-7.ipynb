{
 "cells": [
  {
   "cell_type": "code",
   "execution_count": 1,
   "id": "10f73927",
   "metadata": {
    "_cell_guid": "b1076dfc-b9ad-4769-8c92-a6c4dae69d19",
    "_uuid": "8f2839f25d086af736a60e9eeb907d3b93b6e0e5",
    "execution": {
     "iopub.execute_input": "2023-10-23T09:26:46.279380Z",
     "iopub.status.busy": "2023-10-23T09:26:46.278955Z",
     "iopub.status.idle": "2023-10-23T09:26:46.704325Z",
     "shell.execute_reply": "2023-10-23T09:26:46.703444Z"
    },
    "papermill": {
     "duration": 0.435338,
     "end_time": "2023-10-23T09:26:46.707922",
     "exception": false,
     "start_time": "2023-10-23T09:26:46.272584",
     "status": "completed"
    },
    "tags": []
   },
   "outputs": [],
   "source": [
    "import numpy as np\n",
    "import pandas as pd"
   ]
  },
  {
   "cell_type": "markdown",
   "id": "52f837e3",
   "metadata": {
    "papermill": {
     "duration": 0.003686,
     "end_time": "2023-10-23T09:26:46.718867",
     "exception": false,
     "start_time": "2023-10-23T09:26:46.715181",
     "status": "completed"
    },
    "tags": []
   },
   "source": [
    "# To create a dataframe from a dictionary and display it"
   ]
  },
  {
   "cell_type": "code",
   "execution_count": 2,
   "id": "9079f27c",
   "metadata": {
    "execution": {
     "iopub.execute_input": "2023-10-23T09:26:46.729178Z",
     "iopub.status.busy": "2023-10-23T09:26:46.728595Z",
     "iopub.status.idle": "2023-10-23T09:26:46.759619Z",
     "shell.execute_reply": "2023-10-23T09:26:46.758665Z"
    },
    "papermill": {
     "duration": 0.040011,
     "end_time": "2023-10-23T09:26:46.762982",
     "exception": false,
     "start_time": "2023-10-23T09:26:46.722971",
     "status": "completed"
    },
    "tags": []
   },
   "outputs": [
    {
     "data": {
      "text/html": [
       "<div>\n",
       "<style scoped>\n",
       "    .dataframe tbody tr th:only-of-type {\n",
       "        vertical-align: middle;\n",
       "    }\n",
       "\n",
       "    .dataframe tbody tr th {\n",
       "        vertical-align: top;\n",
       "    }\n",
       "\n",
       "    .dataframe thead th {\n",
       "        text-align: right;\n",
       "    }\n",
       "</style>\n",
       "<table border=\"1\" class=\"dataframe\">\n",
       "  <thead>\n",
       "    <tr style=\"text-align: right;\">\n",
       "      <th></th>\n",
       "      <th>words</th>\n",
       "      <th>number</th>\n",
       "    </tr>\n",
       "  </thead>\n",
       "  <tbody>\n",
       "    <tr>\n",
       "      <th>0</th>\n",
       "      <td>Fifteen</td>\n",
       "      <td>11</td>\n",
       "    </tr>\n",
       "    <tr>\n",
       "      <th>1</th>\n",
       "      <td>Twelve</td>\n",
       "      <td>12</td>\n",
       "    </tr>\n",
       "    <tr>\n",
       "      <th>2</th>\n",
       "      <td>Thirteen</td>\n",
       "      <td>13</td>\n",
       "    </tr>\n",
       "    <tr>\n",
       "      <th>3</th>\n",
       "      <td>Eleven</td>\n",
       "      <td>14</td>\n",
       "    </tr>\n",
       "    <tr>\n",
       "      <th>4</th>\n",
       "      <td>Fourteen</td>\n",
       "      <td>15</td>\n",
       "    </tr>\n",
       "  </tbody>\n",
       "</table>\n",
       "</div>"
      ],
      "text/plain": [
       "      words  number\n",
       "0   Fifteen      11\n",
       "1    Twelve      12\n",
       "2  Thirteen      13\n",
       "3    Eleven      14\n",
       "4  Fourteen      15"
      ]
     },
     "execution_count": 2,
     "metadata": {},
     "output_type": "execute_result"
    }
   ],
   "source": [
    "#216270307011\n",
    "#YASH S YOGANANDI\n",
    "data = {\n",
    "    'words': ['Fifteen', 'Twelve', 'Thirteen', 'Eleven', 'Fourteen'],\n",
    "    'number': [11, 12, 13, 14, 15],\n",
    "}\n",
    "\n",
    "df = pd.DataFrame(data)\n",
    "df"
   ]
  },
  {
   "cell_type": "markdown",
   "id": "dd8e80f2",
   "metadata": {
    "papermill": {
     "duration": 0.004368,
     "end_time": "2023-10-23T09:26:46.771632",
     "exception": false,
     "start_time": "2023-10-23T09:26:46.767264",
     "status": "completed"
    },
    "tags": []
   },
   "source": [
    "# To sort the DataFrame first by 'name' in ascending order"
   ]
  },
  {
   "cell_type": "code",
   "execution_count": 3,
   "id": "56a6996a",
   "metadata": {
    "execution": {
     "iopub.execute_input": "2023-10-23T09:26:46.782527Z",
     "iopub.status.busy": "2023-10-23T09:26:46.781921Z",
     "iopub.status.idle": "2023-10-23T09:26:46.800482Z",
     "shell.execute_reply": "2023-10-23T09:26:46.799618Z"
    },
    "papermill": {
     "duration": 0.027194,
     "end_time": "2023-10-23T09:26:46.803175",
     "exception": false,
     "start_time": "2023-10-23T09:26:46.775981",
     "status": "completed"
    },
    "tags": []
   },
   "outputs": [
    {
     "data": {
      "text/html": [
       "<div>\n",
       "<style scoped>\n",
       "    .dataframe tbody tr th:only-of-type {\n",
       "        vertical-align: middle;\n",
       "    }\n",
       "\n",
       "    .dataframe tbody tr th {\n",
       "        vertical-align: top;\n",
       "    }\n",
       "\n",
       "    .dataframe thead th {\n",
       "        text-align: right;\n",
       "    }\n",
       "</style>\n",
       "<table border=\"1\" class=\"dataframe\">\n",
       "  <thead>\n",
       "    <tr style=\"text-align: right;\">\n",
       "      <th></th>\n",
       "      <th>name</th>\n",
       "      <th>number</th>\n",
       "    </tr>\n",
       "  </thead>\n",
       "  <tbody>\n",
       "    <tr>\n",
       "      <th>3</th>\n",
       "      <td>Arya</td>\n",
       "      <td>14</td>\n",
       "    </tr>\n",
       "    <tr>\n",
       "      <th>4</th>\n",
       "      <td>Heena</td>\n",
       "      <td>15</td>\n",
       "    </tr>\n",
       "    <tr>\n",
       "      <th>1</th>\n",
       "      <td>Misty</td>\n",
       "      <td>12</td>\n",
       "    </tr>\n",
       "    <tr>\n",
       "      <th>2</th>\n",
       "      <td>Vansh</td>\n",
       "      <td>13</td>\n",
       "    </tr>\n",
       "    <tr>\n",
       "      <th>0</th>\n",
       "      <td>adi</td>\n",
       "      <td>11</td>\n",
       "    </tr>\n",
       "  </tbody>\n",
       "</table>\n",
       "</div>"
      ],
      "text/plain": [
       "    name  number\n",
       "3   Arya      14\n",
       "4  Heena      15\n",
       "1  Misty      12\n",
       "2  Vansh      13\n",
       "0    adi      11"
      ]
     },
     "execution_count": 3,
     "metadata": {},
     "output_type": "execute_result"
    }
   ],
   "source": [
    "#216270307011\n",
    "#YASH S YOGANANDI\n",
    "data = {\n",
    "    'name': ['adi', 'Misty', 'Vansh', 'Arya', 'Heena'],\n",
    "    'number': [11, 12, 13, 14, 15],\n",
    "}\n",
    "df = pd.DataFrame(data)\n",
    "sorted_df=df.sort_values(by='name', ascending=True)\n",
    "sorted_df"
   ]
  },
  {
   "cell_type": "markdown",
   "id": "a57cc058",
   "metadata": {
    "papermill": {
     "duration": 0.004101,
     "end_time": "2023-10-23T09:26:46.811824",
     "exception": false,
     "start_time": "2023-10-23T09:26:46.807723",
     "status": "completed"
    },
    "tags": []
   },
   "source": [
    "# To delete the one specific column from the DataFrame"
   ]
  },
  {
   "cell_type": "code",
   "execution_count": 4,
   "id": "a948c058",
   "metadata": {
    "execution": {
     "iopub.execute_input": "2023-10-23T09:26:46.823114Z",
     "iopub.status.busy": "2023-10-23T09:26:46.822419Z",
     "iopub.status.idle": "2023-10-23T09:26:46.834372Z",
     "shell.execute_reply": "2023-10-23T09:26:46.833459Z"
    },
    "papermill": {
     "duration": 0.020728,
     "end_time": "2023-10-23T09:26:46.837010",
     "exception": false,
     "start_time": "2023-10-23T09:26:46.816282",
     "status": "completed"
    },
    "tags": []
   },
   "outputs": [
    {
     "data": {
      "text/html": [
       "<div>\n",
       "<style scoped>\n",
       "    .dataframe tbody tr th:only-of-type {\n",
       "        vertical-align: middle;\n",
       "    }\n",
       "\n",
       "    .dataframe tbody tr th {\n",
       "        vertical-align: top;\n",
       "    }\n",
       "\n",
       "    .dataframe thead th {\n",
       "        text-align: right;\n",
       "    }\n",
       "</style>\n",
       "<table border=\"1\" class=\"dataframe\">\n",
       "  <thead>\n",
       "    <tr style=\"text-align: right;\">\n",
       "      <th></th>\n",
       "      <th>name</th>\n",
       "    </tr>\n",
       "  </thead>\n",
       "  <tbody>\n",
       "    <tr>\n",
       "      <th>0</th>\n",
       "      <td>adi</td>\n",
       "    </tr>\n",
       "    <tr>\n",
       "      <th>1</th>\n",
       "      <td>Misty</td>\n",
       "    </tr>\n",
       "    <tr>\n",
       "      <th>2</th>\n",
       "      <td>Vansh</td>\n",
       "    </tr>\n",
       "    <tr>\n",
       "      <th>3</th>\n",
       "      <td>Arya</td>\n",
       "    </tr>\n",
       "    <tr>\n",
       "      <th>4</th>\n",
       "      <td>Heena</td>\n",
       "    </tr>\n",
       "  </tbody>\n",
       "</table>\n",
       "</div>"
      ],
      "text/plain": [
       "    name\n",
       "0    adi\n",
       "1  Misty\n",
       "2  Vansh\n",
       "3   Arya\n",
       "4  Heena"
      ]
     },
     "execution_count": 4,
     "metadata": {},
     "output_type": "execute_result"
    }
   ],
   "source": [
    "#216270307011\n",
    "#YASH S YOGANANDI\n",
    "del df['number']\n",
    "df"
   ]
  },
  {
   "cell_type": "markdown",
   "id": "ebc21856",
   "metadata": {
    "papermill": {
     "duration": 0.004854,
     "end_time": "2023-10-23T09:26:46.846683",
     "exception": false,
     "start_time": "2023-10-23T09:26:46.841829",
     "status": "completed"
    },
    "tags": []
   },
   "source": [
    "# To write a DataFrame to CSV file using tab separator"
   ]
  },
  {
   "cell_type": "code",
   "execution_count": 5,
   "id": "568245e7",
   "metadata": {
    "execution": {
     "iopub.execute_input": "2023-10-23T09:26:46.859686Z",
     "iopub.status.busy": "2023-10-23T09:26:46.859015Z",
     "iopub.status.idle": "2023-10-23T09:26:46.872369Z",
     "shell.execute_reply": "2023-10-23T09:26:46.871264Z"
    },
    "papermill": {
     "duration": 0.024407,
     "end_time": "2023-10-23T09:26:46.876257",
     "exception": false,
     "start_time": "2023-10-23T09:26:46.851850",
     "status": "completed"
    },
    "tags": []
   },
   "outputs": [
    {
     "name": "stdout",
     "output_type": "stream",
     "text": [
      "Data are converted in csv form\n"
     ]
    }
   ],
   "source": [
    "#216270307011\n",
    "#YASH S YOGANANDI\n",
    "data = {\n",
    "    'name': ['adi', 'Misty', 'Vansh', 'Arya', 'Heena'],\n",
    "    'number': [11, 12, 13, 14, 15],\n",
    "}\n",
    "df = pd.DataFrame(data)\n",
    "\n",
    "df.to_csv('name.csv', sep='\\t')\n",
    "\n",
    "print(\"Data are converted in csv form\")"
   ]
  }
 ],
 "metadata": {
  "kernelspec": {
   "display_name": "Python 3",
   "language": "python",
   "name": "python3"
  },
  "language_info": {
   "codemirror_mode": {
    "name": "ipython",
    "version": 3
   },
   "file_extension": ".py",
   "mimetype": "text/x-python",
   "name": "python",
   "nbconvert_exporter": "python",
   "pygments_lexer": "ipython3",
   "version": "3.10.12"
  },
  "papermill": {
   "default_parameters": {},
   "duration": 5.361365,
   "end_time": "2023-10-23T09:26:47.606400",
   "environment_variables": {},
   "exception": null,
   "input_path": "__notebook__.ipynb",
   "output_path": "__notebook__.ipynb",
   "parameters": {},
   "start_time": "2023-10-23T09:26:42.245035",
   "version": "2.4.0"
  }
 },
 "nbformat": 4,
 "nbformat_minor": 5
}
